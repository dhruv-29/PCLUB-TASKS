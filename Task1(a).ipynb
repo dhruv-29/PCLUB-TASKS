{
 "cells": [
  {
   "cell_type": "code",
   "execution_count": 1,
   "id": "59ed722b",
   "metadata": {},
   "outputs": [],
   "source": [
    "import numpy as np\n",
    "import matplotlib.pyplot as plt\n",
    "import pandas as pd"
   ]
  },
  {
   "cell_type": "code",
   "execution_count": 20,
   "id": "e703bb5a",
   "metadata": {},
   "outputs": [
    {
     "name": "stdout",
     "output_type": "stream",
     "text": [
      "Estimated coeffecients are : \n",
      " b[0]= 0.10940000000000762  b[1]= 9.999999999998701e-05\n"
     ]
    },
    {
     "data": {
      "image/png": "[encoded data removed]",
      "text/plain": [
       "<Figure size 432x288 with 1 Axes>"
      ]
     },
     "metadata": {
      "needs_background": "light"
     },
     "output_type": "display_data"
    }
   ],
   "source": [
    "x = np.array([0, 10, 45, 70, 90, 100, 149, 180, 200, 250])\n",
    "y = np.array([1, 3, 2, 5, 7, 8, 8, 9, 10, 12])\n",
    "m=0\n",
    "c=0\n",
    "L=0.0000001\n",
    "itrations=10000\n",
    "n=len(x)\n",
    "for i in range(itrations):\n",
    "    Y_pred=m*x+c\n",
    "    D_m=(-1/n)*sum(x)\n",
    "    D_c=(-1/n)\n",
    "    m=m-L*D_m\n",
    "    c=c-L*D_c  \n",
    "b=np.array([m,c])\n",
    "print(\"Estimated coeffecients are : \\n b[0]=\",b[0],\" b[1]=\",b[1])\n",
    "plt.scatter(x, y) \n",
    "plt.plot(x,Y_pred,color=\"b\")   # my preddicted regression\n",
    "plt.show()"
   ]
  },
  {
   "cell_type": "code",
   "execution_count": null,
   "id": "aefa048b",
   "metadata": {},
   "outputs": [],
   "source": []
  }
 ],
 "metadata": {
  "kernelspec": {
   "display_name": "Python 3 (ipykernel)",
   "language": "python",
   "name": "python3"
  },
  "language_info": {
   "codemirror_mode": {
    "name": "ipython",
    "version": 3
   },
   "file_extension": ".py",
   "mimetype": "text/x-python",
   "name": "python",
   "nbconvert_exporter": "python",
   "pygments_lexer": "ipython3",
   "version": "3.9.6"
  }
 },
 "nbformat": 4,
 "nbformat_minor": 5
}
