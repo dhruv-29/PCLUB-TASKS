{
 "cells": [
  {
   "cell_type": "code",
   "execution_count": 1,
   "id": "bf37ef7b",
   "metadata": {},
   "outputs": [],
   "source": [
    "import numpy as np\n",
    "import matplotlib.pyplot as plt\n",
    "import pandas as pd"
   ]
  },
  {
   "cell_type": "code",
   "execution_count": 32,
   "id": "8abb93a5",
   "metadata": {},
   "outputs": [
    {
     "data": {
      "image/png": "[encoded data removed]",
      "text/plain": [
       "<Figure size 432x288 with 1 Axes>"
      ]
     },
     "metadata": {
      "needs_background": "light"
     },
     "output_type": "display_data"
    }
   ],
   "source": [
    "x = np.array([0, 1, 2, 3, 4, 5, 6, 7, 8, 9])\n",
    "y = np.array([1,50,90,100,150,600,900,1000,2000,4000])\n",
    "a=0\n",
    "b=0\n",
    "c=0\n",
    "iterations=100000\n",
    "L=0.000000000000001\n",
    "n=len(x)\n",
    "for i in range(iterations):\n",
    "    Y_pred=a*x*x+b*x+c\n",
    "    D_a=(-4/n)*sum(x*x*(y-Y_pred))*sum(x*x*(y-Y_pred))*sum(x*x*(y-Y_pred))\n",
    "    D_b=(-4/n)*sum(x*(y-Y_pred))*sum(x*(y-Y_pred))*sum(x*(y-Y_pred))\n",
    "    D_c=(-4/n)*sum((y-Y_pred))*sum((y-Y_pred))*sum((y-Y_pred))\n",
    "    a=a-D_a*L\n",
    "    b=b-D_b*L\n",
    "    c=c-D_c*L\n",
    "plt.scatter(x, y)\n",
    "plt.plot(x,Y_pred,color=\"b\")\n",
    "plt.show()"
   ]
  },
  {
   "cell_type": "code",
   "execution_count": null,
   "id": "131c3f4e",
   "metadata": {},
   "outputs": [],
   "source": []
  }
 ],
 "metadata": {
  "kernelspec": {
   "display_name": "Python 3 (ipykernel)",
   "language": "python",
   "name": "python3"
  },
  "language_info": {
   "codemirror_mode": {
    "name": "ipython",
    "version": 3
   },
   "file_extension": ".py",
   "mimetype": "text/x-python",
   "name": "python",
   "nbconvert_exporter": "python",
   "pygments_lexer": "ipython3",
   "version": "3.9.6"
  }
 },
 "nbformat": 4,
 "nbformat_minor": 5
}
